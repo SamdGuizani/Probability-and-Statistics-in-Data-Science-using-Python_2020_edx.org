{
 "cells": [
  {
   "cell_type": "markdown",
   "metadata": {},
   "source": [
    "# Continuous Probability Distributions"
   ]
  },
  {
   "cell_type": "markdown",
   "metadata": {},
   "source": [
    "As usual, we first include the usual libraries.  "
   ]
  },
  {
   "cell_type": "code",
   "execution_count": 26,
   "metadata": {},
   "outputs": [],
   "source": [
    "# Useful libraries\n",
    "import numpy as np\n",
    "from numpy import pi\n",
    "import matplotlib.pyplot as plt \n",
    "import ipywidgets as widgets\n",
    "from matplotlib import axes \n",
    "import scipy.stats"
   ]
  },
  {
   "cell_type": "markdown",
   "metadata": {},
   "source": [
    "Next define the plot parameters"
   ]
  },
  {
   "cell_type": "code",
   "execution_count": 27,
   "metadata": {},
   "outputs": [],
   "source": [
    "# This sets the size and properties of the plots when using matplotlib.pyplot\n",
    "plt.style.use([{\n",
    "    \"figure.figsize\":(12,9),\n",
    "    \"xtick.labelsize\": \"large\",\n",
    "    \"ytick.labelsize\": \"large\",\n",
    "    \"legend.fontsize\": \"x-large\",\n",
    "    \"axes.labelsize\": \"x-large\",\n",
    "    \"axes.titlesize\": \"xx-large\",\n",
    "    \"axes.spines.top\": False,\n",
    "    \"axes.spines.right\": False,\n",
    "    # \"ytick.major.right\":False,\n",
    "    # \"xtick.major.top\":False\n",
    "},'seaborn-poster'])"
   ]
  },
  {
   "cell_type": "markdown",
   "metadata": {},
   "source": [
    "# Assignment 11\n",
    "San Diego hourly temperature records\n",
    "https://www.kaggle.com/selfishgene/historical-hourly-weather-data/data"
   ]
  },
  {
   "cell_type": "code",
   "execution_count": 28,
   "metadata": {},
   "outputs": [],
   "source": [
    "import pandas as pd"
   ]
  },
  {
   "cell_type": "code",
   "execution_count": 29,
   "metadata": {},
   "outputs": [],
   "source": [
    "df = pd.read_csv('Temperature.csv', delimiter=',')"
   ]
  },
  {
   "cell_type": "code",
   "execution_count": 30,
   "metadata": {},
   "outputs": [
    {
     "data": {
      "text/html": [
       "<div>\n",
       "<style scoped>\n",
       "    .dataframe tbody tr th:only-of-type {\n",
       "        vertical-align: middle;\n",
       "    }\n",
       "\n",
       "    .dataframe tbody tr th {\n",
       "        vertical-align: top;\n",
       "    }\n",
       "\n",
       "    .dataframe thead th {\n",
       "        text-align: right;\n",
       "    }\n",
       "</style>\n",
       "<table border=\"1\" class=\"dataframe\">\n",
       "  <thead>\n",
       "    <tr style=\"text-align: right;\">\n",
       "      <th></th>\n",
       "      <th>datetime</th>\n",
       "      <th>Vancouver</th>\n",
       "      <th>Portland</th>\n",
       "      <th>San Francisco</th>\n",
       "      <th>Seattle</th>\n",
       "      <th>Los Angeles</th>\n",
       "      <th>San Diego</th>\n",
       "      <th>Las Vegas</th>\n",
       "      <th>Phoenix</th>\n",
       "      <th>Albuquerque</th>\n",
       "      <th>Denver</th>\n",
       "      <th>San Antonio</th>\n",
       "      <th>Dallas</th>\n",
       "      <th>Houston</th>\n",
       "      <th>Kansas City</th>\n",
       "      <th>Minneapolis</th>\n",
       "      <th>Saint Louis</th>\n",
       "      <th>Chicago</th>\n",
       "      <th>Nashville</th>\n",
       "      <th>Indianapolis</th>\n",
       "      <th>Atlanta</th>\n",
       "      <th>Detroit</th>\n",
       "      <th>Jacksonville</th>\n",
       "      <th>Charlotte</th>\n",
       "      <th>Miami</th>\n",
       "      <th>Pittsburgh</th>\n",
       "      <th>Toronto</th>\n",
       "      <th>Philadelphia</th>\n",
       "      <th>New York</th>\n",
       "      <th>Montreal</th>\n",
       "      <th>Boston</th>\n",
       "      <th>Beersheba</th>\n",
       "      <th>Tel Aviv District</th>\n",
       "      <th>Eilat</th>\n",
       "      <th>Haifa</th>\n",
       "      <th>Nahariyya</th>\n",
       "      <th>Jerusalem</th>\n",
       "    </tr>\n",
       "  </thead>\n",
       "  <tbody>\n",
       "    <tr>\n",
       "      <th>0</th>\n",
       "      <td>2012-10-01 12:00:00</td>\n",
       "      <td>NaN</td>\n",
       "      <td>NaN</td>\n",
       "      <td>NaN</td>\n",
       "      <td>NaN</td>\n",
       "      <td>NaN</td>\n",
       "      <td>NaN</td>\n",
       "      <td>NaN</td>\n",
       "      <td>NaN</td>\n",
       "      <td>NaN</td>\n",
       "      <td>NaN</td>\n",
       "      <td>NaN</td>\n",
       "      <td>NaN</td>\n",
       "      <td>NaN</td>\n",
       "      <td>NaN</td>\n",
       "      <td>NaN</td>\n",
       "      <td>NaN</td>\n",
       "      <td>NaN</td>\n",
       "      <td>NaN</td>\n",
       "      <td>NaN</td>\n",
       "      <td>NaN</td>\n",
       "      <td>NaN</td>\n",
       "      <td>NaN</td>\n",
       "      <td>NaN</td>\n",
       "      <td>NaN</td>\n",
       "      <td>NaN</td>\n",
       "      <td>NaN</td>\n",
       "      <td>NaN</td>\n",
       "      <td>NaN</td>\n",
       "      <td>NaN</td>\n",
       "      <td>NaN</td>\n",
       "      <td>NaN</td>\n",
       "      <td>NaN</td>\n",
       "      <td>309.100000</td>\n",
       "      <td>NaN</td>\n",
       "      <td>NaN</td>\n",
       "      <td>NaN</td>\n",
       "    </tr>\n",
       "    <tr>\n",
       "      <th>1</th>\n",
       "      <td>2012-10-01 13:00:00</td>\n",
       "      <td>284.630000</td>\n",
       "      <td>282.080000</td>\n",
       "      <td>289.480000</td>\n",
       "      <td>281.800000</td>\n",
       "      <td>291.870000</td>\n",
       "      <td>291.530000</td>\n",
       "      <td>293.410000</td>\n",
       "      <td>296.600000</td>\n",
       "      <td>285.120000</td>\n",
       "      <td>284.610000</td>\n",
       "      <td>289.290000</td>\n",
       "      <td>289.740000</td>\n",
       "      <td>288.270000</td>\n",
       "      <td>289.980000</td>\n",
       "      <td>286.870000</td>\n",
       "      <td>286.180000</td>\n",
       "      <td>284.010000</td>\n",
       "      <td>287.410000</td>\n",
       "      <td>283.850000</td>\n",
       "      <td>294.030000</td>\n",
       "      <td>284.030000</td>\n",
       "      <td>298.170000</td>\n",
       "      <td>288.650000</td>\n",
       "      <td>299.720000</td>\n",
       "      <td>281.000000</td>\n",
       "      <td>286.260000</td>\n",
       "      <td>285.630000</td>\n",
       "      <td>288.220000</td>\n",
       "      <td>285.830000</td>\n",
       "      <td>287.170000</td>\n",
       "      <td>307.590000</td>\n",
       "      <td>305.470000</td>\n",
       "      <td>310.580000</td>\n",
       "      <td>304.4</td>\n",
       "      <td>304.4</td>\n",
       "      <td>303.5</td>\n",
       "    </tr>\n",
       "    <tr>\n",
       "      <th>2</th>\n",
       "      <td>2012-10-01 14:00:00</td>\n",
       "      <td>284.629041</td>\n",
       "      <td>282.083252</td>\n",
       "      <td>289.474993</td>\n",
       "      <td>281.797217</td>\n",
       "      <td>291.868186</td>\n",
       "      <td>291.533501</td>\n",
       "      <td>293.403141</td>\n",
       "      <td>296.608509</td>\n",
       "      <td>285.154558</td>\n",
       "      <td>284.607306</td>\n",
       "      <td>289.303649</td>\n",
       "      <td>289.762974</td>\n",
       "      <td>288.297576</td>\n",
       "      <td>289.997635</td>\n",
       "      <td>286.893636</td>\n",
       "      <td>286.185246</td>\n",
       "      <td>284.054691</td>\n",
       "      <td>287.421360</td>\n",
       "      <td>283.889394</td>\n",
       "      <td>294.035341</td>\n",
       "      <td>284.069789</td>\n",
       "      <td>298.205230</td>\n",
       "      <td>288.650172</td>\n",
       "      <td>299.732518</td>\n",
       "      <td>281.024767</td>\n",
       "      <td>286.262541</td>\n",
       "      <td>285.663208</td>\n",
       "      <td>288.247676</td>\n",
       "      <td>285.834650</td>\n",
       "      <td>287.186092</td>\n",
       "      <td>307.590000</td>\n",
       "      <td>304.310000</td>\n",
       "      <td>310.495769</td>\n",
       "      <td>304.4</td>\n",
       "      <td>304.4</td>\n",
       "      <td>303.5</td>\n",
       "    </tr>\n",
       "    <tr>\n",
       "      <th>3</th>\n",
       "      <td>2012-10-01 15:00:00</td>\n",
       "      <td>284.626998</td>\n",
       "      <td>282.091866</td>\n",
       "      <td>289.460618</td>\n",
       "      <td>281.789833</td>\n",
       "      <td>291.862844</td>\n",
       "      <td>291.543355</td>\n",
       "      <td>293.392177</td>\n",
       "      <td>296.631487</td>\n",
       "      <td>285.233952</td>\n",
       "      <td>284.599918</td>\n",
       "      <td>289.338497</td>\n",
       "      <td>289.830767</td>\n",
       "      <td>288.334343</td>\n",
       "      <td>290.038151</td>\n",
       "      <td>286.951401</td>\n",
       "      <td>286.199194</td>\n",
       "      <td>284.177412</td>\n",
       "      <td>287.454637</td>\n",
       "      <td>283.941919</td>\n",
       "      <td>294.049702</td>\n",
       "      <td>284.173965</td>\n",
       "      <td>298.299595</td>\n",
       "      <td>288.650582</td>\n",
       "      <td>299.766579</td>\n",
       "      <td>281.088319</td>\n",
       "      <td>286.269518</td>\n",
       "      <td>285.756824</td>\n",
       "      <td>288.326940</td>\n",
       "      <td>285.847790</td>\n",
       "      <td>287.231672</td>\n",
       "      <td>307.391513</td>\n",
       "      <td>304.281841</td>\n",
       "      <td>310.411538</td>\n",
       "      <td>304.4</td>\n",
       "      <td>304.4</td>\n",
       "      <td>303.5</td>\n",
       "    </tr>\n",
       "    <tr>\n",
       "      <th>4</th>\n",
       "      <td>2012-10-01 16:00:00</td>\n",
       "      <td>284.624955</td>\n",
       "      <td>282.100481</td>\n",
       "      <td>289.446243</td>\n",
       "      <td>281.782449</td>\n",
       "      <td>291.857503</td>\n",
       "      <td>291.553209</td>\n",
       "      <td>293.381213</td>\n",
       "      <td>296.654466</td>\n",
       "      <td>285.313345</td>\n",
       "      <td>284.592530</td>\n",
       "      <td>289.373345</td>\n",
       "      <td>289.898560</td>\n",
       "      <td>288.371111</td>\n",
       "      <td>290.078666</td>\n",
       "      <td>287.009166</td>\n",
       "      <td>286.213142</td>\n",
       "      <td>284.300133</td>\n",
       "      <td>287.487914</td>\n",
       "      <td>283.994444</td>\n",
       "      <td>294.064063</td>\n",
       "      <td>284.278140</td>\n",
       "      <td>298.393961</td>\n",
       "      <td>288.650991</td>\n",
       "      <td>299.800641</td>\n",
       "      <td>281.151870</td>\n",
       "      <td>286.276496</td>\n",
       "      <td>285.850440</td>\n",
       "      <td>288.406203</td>\n",
       "      <td>285.860929</td>\n",
       "      <td>287.277251</td>\n",
       "      <td>307.145200</td>\n",
       "      <td>304.238015</td>\n",
       "      <td>310.327308</td>\n",
       "      <td>304.4</td>\n",
       "      <td>304.4</td>\n",
       "      <td>303.5</td>\n",
       "    </tr>\n",
       "  </tbody>\n",
       "</table>\n",
       "</div>"
      ],
      "text/plain": [
       "              datetime   Vancouver    Portland  ...  Haifa  Nahariyya  Jerusalem\n",
       "0  2012-10-01 12:00:00         NaN         NaN  ...    NaN        NaN        NaN\n",
       "1  2012-10-01 13:00:00  284.630000  282.080000  ...  304.4      304.4      303.5\n",
       "2  2012-10-01 14:00:00  284.629041  282.083252  ...  304.4      304.4      303.5\n",
       "3  2012-10-01 15:00:00  284.626998  282.091866  ...  304.4      304.4      303.5\n",
       "4  2012-10-01 16:00:00  284.624955  282.100481  ...  304.4      304.4      303.5\n",
       "\n",
       "[5 rows x 37 columns]"
      ]
     },
     "execution_count": 30,
     "metadata": {},
     "output_type": "execute_result"
    }
   ],
   "source": [
    "df.head()"
   ]
  },
  {
   "cell_type": "code",
   "execution_count": 31,
   "metadata": {},
   "outputs": [
    {
     "data": {
      "text/html": [
       "<div>\n",
       "<style scoped>\n",
       "    .dataframe tbody tr th:only-of-type {\n",
       "        vertical-align: middle;\n",
       "    }\n",
       "\n",
       "    .dataframe tbody tr th {\n",
       "        vertical-align: top;\n",
       "    }\n",
       "\n",
       "    .dataframe thead th {\n",
       "        text-align: right;\n",
       "    }\n",
       "</style>\n",
       "<table border=\"1\" class=\"dataframe\">\n",
       "  <thead>\n",
       "    <tr style=\"text-align: right;\">\n",
       "      <th></th>\n",
       "      <th>datetime</th>\n",
       "      <th>San Diego</th>\n",
       "    </tr>\n",
       "  </thead>\n",
       "  <tbody>\n",
       "    <tr>\n",
       "      <th>0</th>\n",
       "      <td>2012-10-01 12:00:00</td>\n",
       "      <td>NaN</td>\n",
       "    </tr>\n",
       "    <tr>\n",
       "      <th>1</th>\n",
       "      <td>2012-10-01 13:00:00</td>\n",
       "      <td>291.530000</td>\n",
       "    </tr>\n",
       "    <tr>\n",
       "      <th>2</th>\n",
       "      <td>2012-10-01 14:00:00</td>\n",
       "      <td>291.533501</td>\n",
       "    </tr>\n",
       "    <tr>\n",
       "      <th>3</th>\n",
       "      <td>2012-10-01 15:00:00</td>\n",
       "      <td>291.543355</td>\n",
       "    </tr>\n",
       "    <tr>\n",
       "      <th>4</th>\n",
       "      <td>2012-10-01 16:00:00</td>\n",
       "      <td>291.553209</td>\n",
       "    </tr>\n",
       "    <tr>\n",
       "      <th>5</th>\n",
       "      <td>2012-10-01 17:00:00</td>\n",
       "      <td>291.563063</td>\n",
       "    </tr>\n",
       "    <tr>\n",
       "      <th>6</th>\n",
       "      <td>2012-10-01 18:00:00</td>\n",
       "      <td>291.572917</td>\n",
       "    </tr>\n",
       "    <tr>\n",
       "      <th>7</th>\n",
       "      <td>2012-10-01 19:00:00</td>\n",
       "      <td>291.582772</td>\n",
       "    </tr>\n",
       "    <tr>\n",
       "      <th>8</th>\n",
       "      <td>2012-10-01 20:00:00</td>\n",
       "      <td>291.592626</td>\n",
       "    </tr>\n",
       "    <tr>\n",
       "      <th>9</th>\n",
       "      <td>2012-10-01 21:00:00</td>\n",
       "      <td>291.602480</td>\n",
       "    </tr>\n",
       "  </tbody>\n",
       "</table>\n",
       "</div>"
      ],
      "text/plain": [
       "              datetime   San Diego\n",
       "0  2012-10-01 12:00:00         NaN\n",
       "1  2012-10-01 13:00:00  291.530000\n",
       "2  2012-10-01 14:00:00  291.533501\n",
       "3  2012-10-01 15:00:00  291.543355\n",
       "4  2012-10-01 16:00:00  291.553209\n",
       "5  2012-10-01 17:00:00  291.563063\n",
       "6  2012-10-01 18:00:00  291.572917\n",
       "7  2012-10-01 19:00:00  291.582772\n",
       "8  2012-10-01 20:00:00  291.592626\n",
       "9  2012-10-01 21:00:00  291.602480"
      ]
     },
     "execution_count": 31,
     "metadata": {},
     "output_type": "execute_result"
    }
   ],
   "source": [
    "SanDiego = df[['datetime', 'San Diego']]\n",
    "SanDiego[:10]"
   ]
  },
  {
   "cell_type": "code",
   "execution_count": 33,
   "metadata": {},
   "outputs": [
    {
     "data": {
      "text/html": [
       "<div>\n",
       "<style scoped>\n",
       "    .dataframe tbody tr th:only-of-type {\n",
       "        vertical-align: middle;\n",
       "    }\n",
       "\n",
       "    .dataframe tbody tr th {\n",
       "        vertical-align: top;\n",
       "    }\n",
       "\n",
       "    .dataframe thead th {\n",
       "        text-align: right;\n",
       "    }\n",
       "</style>\n",
       "<table border=\"1\" class=\"dataframe\">\n",
       "  <thead>\n",
       "    <tr style=\"text-align: right;\">\n",
       "      <th></th>\n",
       "      <th>San Diego</th>\n",
       "    </tr>\n",
       "  </thead>\n",
       "  <tbody>\n",
       "    <tr>\n",
       "      <th>count</th>\n",
       "      <td>45252.000000</td>\n",
       "    </tr>\n",
       "    <tr>\n",
       "      <th>mean</th>\n",
       "      <td>290.215044</td>\n",
       "    </tr>\n",
       "    <tr>\n",
       "      <th>std</th>\n",
       "      <td>5.889992</td>\n",
       "    </tr>\n",
       "    <tr>\n",
       "      <th>min</th>\n",
       "      <td>265.783333</td>\n",
       "    </tr>\n",
       "    <tr>\n",
       "      <th>25%</th>\n",
       "      <td>286.254750</td>\n",
       "    </tr>\n",
       "    <tr>\n",
       "      <th>50%</th>\n",
       "      <td>290.118750</td>\n",
       "    </tr>\n",
       "    <tr>\n",
       "      <th>75%</th>\n",
       "      <td>294.107542</td>\n",
       "    </tr>\n",
       "    <tr>\n",
       "      <th>max</th>\n",
       "      <td>313.360000</td>\n",
       "    </tr>\n",
       "  </tbody>\n",
       "</table>\n",
       "</div>"
      ],
      "text/plain": [
       "          San Diego\n",
       "count  45252.000000\n",
       "mean     290.215044\n",
       "std        5.889992\n",
       "min      265.783333\n",
       "25%      286.254750\n",
       "50%      290.118750\n",
       "75%      294.107542\n",
       "max      313.360000"
      ]
     },
     "execution_count": 33,
     "metadata": {},
     "output_type": "execute_result"
    }
   ],
   "source": [
    "SanDiego.describe()"
   ]
  },
  {
   "cell_type": "markdown",
   "metadata": {},
   "source": [
    "## Question 1\n",
    "- Plot histogram and report the graph"
   ]
  },
  {
   "cell_type": "code",
   "execution_count": 34,
   "metadata": {
    "scrolled": false
   },
   "outputs": [
    {
     "data": {
      "text/plain": [
       "<matplotlib.legend.Legend at 0x1e46e503508>"
      ]
     },
     "execution_count": 34,
     "metadata": {},
     "output_type": "execute_result"
    },
    {
     "data": {
      "image/png": "[encoded data removed]",
      "text/plain": [
       "<Figure size 921.6x633.6 with 1 Axes>"
      ]
     },
     "metadata": {},
     "output_type": "display_data"
    }
   ],
   "source": [
    "plt.hist(SanDiego['San Diego'].dropna(), bins=100, density=False, label='San Diego Temperature Histogram')\n",
    "\n",
    "plt.legend()"
   ]
  },
  {
   "cell_type": "markdown",
   "metadata": {},
   "source": [
    "## Question 2\n",
    "Sample mean and variance over the data's duration"
   ]
  },
  {
   "cell_type": "code",
   "execution_count": 35,
   "metadata": {},
   "outputs": [
    {
     "name": "stdout",
     "output_type": "stream",
     "text": [
      "Mean = \n",
      "290.21504416532485\n",
      "Variance = \n",
      "34.69200770362536\n"
     ]
    }
   ],
   "source": [
    "mean, variance = SanDiego['San Diego'].mean(), SanDiego['San Diego'].var()\n",
    "print('Mean = ', mean, sep='\\n')\n",
    "print('Variance = ', variance, sep='\\n')"
   ]
  },
  {
   "cell_type": "markdown",
   "metadata": {},
   "source": [
    "## Question 3\n",
    "Sample mean in February 2013"
   ]
  },
  {
   "cell_type": "code",
   "execution_count": 47,
   "metadata": {},
   "outputs": [
    {
     "name": "stdout",
     "output_type": "stream",
     "text": [
      "Mean Feb-2013 = 285.24695012400906 \n",
      "\n"
     ]
    },
    {
     "name": "stderr",
     "output_type": "stream",
     "text": [
      "__main__:1: SettingWithCopyWarning: \n",
      "A value is trying to be set on a copy of a slice from a DataFrame.\n",
      "Try using .loc[row_indexer,col_indexer] = value instead\n",
      "\n",
      "See the caveats in the documentation: https://pandas.pydata.org/pandas-docs/stable/user_guide/indexing.html#returning-a-view-versus-a-copy\n"
     ]
    }
   ],
   "source": [
    "SanDiego['datetime'] = pd.to_datetime(SanDiego['datetime'])\n",
    "Extract = SanDiego[(SanDiego['datetime'] >= '2013-02-01 00:00:00') \n",
    "                   & (SanDiego['datetime'] < '2013-03-01 00:00:00')]\n",
    "print('Mean Feb-2013 =', Extract.mean()[0], '\\n')"
   ]
  },
  {
   "cell_type": "code",
   "execution_count": null,
   "metadata": {},
   "outputs": [],
   "source": []
  }
 ],
 "metadata": {
  "kernelspec": {
   "display_name": "Python 3 (Spyder)",
   "language": "python3",
   "name": "python3"
  },
  "language_info": {
   "codemirror_mode": {
    "name": "ipython",
    "version": 3
   },
   "file_extension": ".py",
   "mimetype": "text/x-python",
   "name": "python",
   "nbconvert_exporter": "python",
   "pygments_lexer": "ipython3",
   "version": "3.7.6"
  },
  "toc": {
   "base_numbering": 1,
   "nav_menu": {},
   "number_sections": true,
   "sideBar": true,
   "skip_h1_title": false,
   "title_cell": "Table of Contents",
   "title_sidebar": "Contents",
   "toc_cell": false,
   "toc_position": {},
   "toc_section_display": "block",
   "toc_window_display": false
  },
  "varInspector": {
   "cols": {
    "lenName": 16,
    "lenType": 16,
    "lenVar": 40
   },
   "kernels_config": {
    "python": {
     "delete_cmd_postfix": "",
     "delete_cmd_prefix": "del ",
     "library": "var_list.py",
     "varRefreshCmd": "print(var_dic_list())"
    },
    "r": {
     "delete_cmd_postfix": ") ",
     "delete_cmd_prefix": "rm(",
     "library": "var_list.r",
     "varRefreshCmd": "cat(var_dic_list()) "
    }
   },
   "types_to_exclude": [
    "module",
    "function",
    "builtin_function_or_method",
    "instance",
    "_Feature"
   ],
   "window_display": false
  },
  "widgets": {
   "state": {
    "06342787fc83420090517274b05d5fba": {
     "views": [
      {
       "cell_index": 17
      }
     ]
    },
    "10b7cb93e49f43d08c451a6a73d34842": {
     "views": [
      {
       "cell_index": 9
      }
     ]
    },
    "19687c7227974da39b419fd16e784c40": {
     "views": [
      {
       "cell_index": 4
      }
     ]
    },
    "477809c81aed4541adcd72d5114e8618": {
     "views": [
      {
       "cell_index": 15
      }
     ]
    },
    "5724c25ac8f741e8b9ac510596c7eeab": {
     "views": [
      {
       "cell_index": 1
      }
     ]
    },
    "6ca6f5f6d25440b8a6af5b6a5aa3147f": {
     "views": [
      {
       "cell_index": 11
      }
     ]
    },
    "8ad0554813334456a86b755833044bc2": {
     "views": [
      {
       "cell_index": 19
      }
     ]
    },
    "ad67784fca70431ca34d4f814ad20c43": {
     "views": [
      {
       "cell_index": 13
      }
     ]
    },
    "d875e7204fe84a69a391b922d0e0b42c": {
     "views": [
      {
       "cell_index": 11
      }
     ]
    },
    "de83bddf07ae4ec795ad20d93d088a90": {
     "views": [
      {
       "cell_index": 11
      }
     ]
    },
    "f997078b84384a68a0bb56b5e6dfa5f9": {
     "views": [
      {
       "cell_index": 6
      }
     ]
    }
   },
   "version": "1.2.0"
  }
 },
 "nbformat": 4,
 "nbformat_minor": 2
}
