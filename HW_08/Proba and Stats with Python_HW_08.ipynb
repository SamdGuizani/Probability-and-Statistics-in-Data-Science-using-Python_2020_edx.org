{
 "cells": [
  {
   "cell_type": "markdown",
   "metadata": {},
   "source": [
    "# Introduction\n",
    "In this assignment you will learn to use functions to access, query, and gain simple insights from datasets.\n",
    "\n",
    "# Dataset\n",
    "The Titanic was a British passenger liner that collided with an iceberg and sank in its maiden voyage. Tragicallly, of the 2,200 passengers onboard, only 800 survived. We will use the [Titanic:Machine Learning from disaster](https://www.kaggle.com/c/titanic/data) dataset to estimate survival probabilies associated with various passengers. We will use only the **train.csv** file.\n",
    "\n",
    "# Some useful functions\n",
    "The following functions outlined in pandas library may prove helpful.\n",
    "\n",
    "**pandas.read_csv()** → Reads the .csv file\n",
    "**pandas.value_counts()** → Returns count of unique values\n",
    "\n",
    "# Questions\n",
    "Using the dataset, estimate the following."
   ]
  },
  {
   "cell_type": "code",
   "execution_count": 14,
   "metadata": {},
   "outputs": [
    {
     "name": "stdout",
     "output_type": "stream",
     "text": [
      "891  observations *  12  varibales\n",
      "Variables: \n",
      " ['PassengerId', 'Survived', 'Pclass', 'Name', 'Sex', 'Age', 'SibSp', 'Parch', 'Ticket', 'Fare', 'Cabin', 'Embarked']\n",
      "Missing data in varibale \"Survived\":  False\n",
      "Missing data in varibale \"Pclass\":  False\n",
      "Missing data in varibale \"Sex\":  False\n"
     ]
    }
   ],
   "source": [
    "# data import\n",
    "import pandas as pd\n",
    "df = pd.read_csv('train.csv')\n",
    "\n",
    "n_rows, n_cols = df.shape\n",
    "variables= df.columns\n",
    "\n",
    "print(n_rows, ' observations * ', n_cols, ' varibales')\n",
    "print('Variables: \\n', list(variables))\n",
    "\n",
    "print('Missing data in varibale \"Survived\": ', df['Survived'].isna().any())\n",
    "print('Missing data in varibale \"Pclass\": ', df['Pclass'].isna().any())\n",
    "print('Missing data in varibale \"Sex\": ', df['Sex'].isna().any())"
   ]
  },
  {
   "cell_type": "markdown",
   "metadata": {},
   "source": [
    "## Question 1: Survival probability for a passenger."
   ]
  },
  {
   "cell_type": "code",
   "execution_count": 29,
   "metadata": {},
   "outputs": [
    {
     "name": "stdout",
     "output_type": "stream",
     "text": [
      "Survival probability of a passenger:  0.3838383838383838\n"
     ]
    }
   ],
   "source": [
    "n_passengers = n_rows\n",
    "n_survived = float(df.Survived[df.Survived == 1].value_counts())\n",
    "p_survival = n_survived / n_passengers\n",
    "print('Survival probability of a passenger: ', p_survival)"
   ]
  },
  {
   "cell_type": "markdown",
   "metadata": {},
   "source": [
    "## Question 2: Survival probability for a female passenger"
   ]
  },
  {
   "cell_type": "code",
   "execution_count": 34,
   "metadata": {},
   "outputs": [
    {
     "name": "stdout",
     "output_type": "stream",
     "text": [
      "Survival probability for a female passenger:  0.7420382165605095\n"
     ]
    }
   ],
   "source": [
    "n_passengers_female = float(df.Sex[df.Sex == 'female'].value_counts())\n",
    "n_survived_female = float(df.Survived[(df.Survived == 1) & (df.Sex == 'female')].value_counts())\n",
    "p_survival_female = n_survived_female / n_passengers_female\n",
    "print('Survival probability for a female passenger: ', p_survival_female)"
   ]
  },
  {
   "cell_type": "markdown",
   "metadata": {},
   "source": [
    "## Question 3: Probability that a person is a female and survives"
   ]
  },
  {
   "cell_type": "code",
   "execution_count": 35,
   "metadata": {},
   "outputs": [
    {
     "name": "stdout",
     "output_type": "stream",
     "text": [
      "Survival probability for a female passenger:  0.2615039281705948\n"
     ]
    }
   ],
   "source": [
    "n_survived_female = float(df.Survived[(df.Survived == 1) & (df.Sex == 'female')].value_counts())\n",
    "p_female_and_survives = n_survived_female / n_passengers\n",
    "print('Survival probability for a female passenger: ', p_female_and_survives)"
   ]
  },
  {
   "cell_type": "markdown",
   "metadata": {},
   "source": [
    "## Question 4: True or False\n",
    "\n",
    "It is more probable for a person from the first class to survive as compared to the second or third class."
   ]
  },
  {
   "cell_type": "code",
   "execution_count": 45,
   "metadata": {},
   "outputs": [
    {
     "name": "stdout",
     "output_type": "stream",
     "text": [
      "Survival probability for Class 1 passengers:  0.1526374859708193\n",
      "Survival probability for Class 2 passengers:  0.09764309764309764\n",
      "Survival probability for Class 3 passengers:  0.1335578002244669\n",
      "TRUE: Class 1 passengers probability of survival is larger than Class 2 and 3 passengers.\n"
     ]
    }
   ],
   "source": [
    "n_survived_class_1 = float(df.Survived[(df.Survived == 1) & (df.Pclass == 1)].value_counts())\n",
    "n_survived_class_2 = float(df.Survived[(df.Survived == 1) & (df.Pclass == 2)].value_counts())\n",
    "n_survived_class_3 = float(df.Survived[(df.Survived == 1) & (df.Pclass == 3)].value_counts())\n",
    "p_survival_class_1 = n_survived_class_1 / n_passengers\n",
    "p_survival_class_2 = n_survived_class_2 / n_passengers\n",
    "p_survival_class_3 = n_survived_class_3 / n_passengers\n",
    "print('Survival probability for Class 1 passengers: ', p_survival_class_1)\n",
    "print('Survival probability for Class 2 passengers: ', p_survival_class_2)\n",
    "print('Survival probability for Class 3 passengers: ', p_survival_class_3)\n",
    "\n",
    "if p_survival_class_1 >= p_survival_class_2 and p_survival_class_1 >= p_survival_class_3:\n",
    "    print('TRUE: Class 1 passengers probability of survival is larger than Class 2 and 3 passengers.')\n",
    "else:\n",
    "    print('FALSE: Class 1 passengers probability of survival is not larger than Class 2 and 3 passengers.')"
   ]
  }
 ],
 "metadata": {
  "kernelspec": {
   "display_name": "Python 3 (Spyder)",
   "language": "python3",
   "name": "python3"
  },
  "language_info": {
   "codemirror_mode": {
    "name": "ipython",
    "version": 3
   },
   "file_extension": ".py",
   "mimetype": "text/x-python",
   "name": "python",
   "nbconvert_exporter": "python",
   "pygments_lexer": "ipython3",
   "version": "3.7.6"
  }
 },
 "nbformat": 4,
 "nbformat_minor": 4
}
